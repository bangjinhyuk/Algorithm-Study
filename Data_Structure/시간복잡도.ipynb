{
 "cells": [
  {
   "cell_type": "markdown",
   "source": [
    "## 시간복잡도"
   ],
   "metadata": {}
  },
  {
   "cell_type": "markdown",
   "source": [
    "### 1. 알고리즘 복잡도 계산이 필요한 이유 \n",
    "\n",
    "#### 하나의 문제를 푸는 알고리즘은 다양함 \n",
    "\n",
    "### 2. 알고리즘 복잡도 계산 항목 \n",
    "\n",
    "#### - 시간 복잡도: 알고리즘 실행속도 \n",
    "#### - 공간 복잡도: 알고리즘이 사용하는 메모리 사이즈\n",
    "\n",
    "### 시간복잡도 주요 요소\n",
    " - 반복문 \n",
    "\n",
    "### 알고리즘 성능 표기법\n",
    "\n",
    " - Big O 표기법: O(N)\n",
    "    * 알고리즘 최악의 실행 시간 표기 \n",
    "    * 가장 많이 일반적으로 사용함 \n",
    "    * 아무리 최악의 상황이라도, 이정도의 성능은 보장 \n",
    " - Ω 표기법: Ω(N)\n",
    "    * 오메가 표기법은 알고리즘 최상의 실행 시간을 표기 \n",
    " - Θ 표기법: Θ(N)\n",
    "    * 세타 표기법은 평균 실행 시간을 표기 "
   ],
   "metadata": {}
  },
  {
   "cell_type": "markdown",
   "source": [
    "### 3. 대문자 O 표기법 \n",
    " -  빅 오 표기법 \n",
    " - O(N)\n",
    "    * N에 따라 결정된다. \n",
    "    * N에는 1,log(n),n,nlog(n),n^2,2^n,n!이 들어갈수 있으며 왼쪽에서 오른쪽으로 갈수록 시간 복잡도가 늘어난다. \n",
    "    * 가장 높은 차수로 입력 \n",
    "    \n",
    "\n"
   ],
   "metadata": {}
  },
  {
   "cell_type": "markdown",
   "source": [
    "### 4. 실제 알고리즘을 예로 각 알고리즘의 시간 복잡도와 빅오 표기법 알아보기 \n",
    " - 연습 1: 1부터 n까지 합을 구하는 알고리즘 작성해 보기 "
   ],
   "metadata": {}
  },
  {
   "cell_type": "code",
   "execution_count": 1,
   "source": [
    "# 알고리즘 1\n",
    "# 시간복잡도  = 반복문 1개 이므로 O(N)\n",
    "def sum(n):\n",
    "    total = 0\n",
    "    for num in range(1, n + 1):\n",
    "        total += num\n",
    "    return total"
   ],
   "outputs": [],
   "metadata": {}
  },
  {
   "cell_type": "code",
   "execution_count": 2,
   "source": [
    "sum(100)"
   ],
   "outputs": [
    {
     "output_type": "execute_result",
     "data": {
      "text/plain": [
       "5050"
      ]
     },
     "metadata": {},
     "execution_count": 2
    }
   ],
   "metadata": {}
  },
  {
   "cell_type": "code",
   "execution_count": 3,
   "source": [
    "# 알고리즘 2: 공식 사용\n",
    "# 시간 복잡도 = 반복문 없이 하나의 명령문 실행 = O(1)\n",
    "def sum2(n):\n",
    "    return int(n*(n+1)/2)"
   ],
   "outputs": [],
   "metadata": {}
  },
  {
   "cell_type": "code",
   "execution_count": 5,
   "source": [
    "sum2(100)"
   ],
   "outputs": [
    {
     "output_type": "execute_result",
     "data": {
      "text/plain": [
       "5050"
      ]
     },
     "metadata": {},
     "execution_count": 5
    }
   ],
   "metadata": {}
  }
 ],
 "metadata": {
  "orig_nbformat": 4,
  "language_info": {
   "name": "python",
   "version": "3.6.8",
   "mimetype": "text/x-python",
   "codemirror_mode": {
    "name": "ipython",
    "version": 3
   },
   "pygments_lexer": "ipython3",
   "nbconvert_exporter": "python",
   "file_extension": ".py"
  },
  "kernelspec": {
   "name": "python3",
   "display_name": "Python 3.6.8 64-bit"
  },
  "interpreter": {
   "hash": "4cd7ab41f5fca4b9b44701077e38c5ffd31fe66a6cab21e0214b68d958d0e462"
  }
 },
 "nbformat": 4,
 "nbformat_minor": 2
}