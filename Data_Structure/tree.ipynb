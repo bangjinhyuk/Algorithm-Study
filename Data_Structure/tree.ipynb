{
    "cells": [
        {
            "cell_type": "markdown",
            "source": [
                "## TREE\n",
                "\n",
                "### 1. 트리 구조\n",
                " - 트리 : 노드와 브랜치를 이용해서 사이클이 일어나지 않도록 구성한 데이터 구조 \n",
                " - 실제로 사용되는 곳 \n",
                "    * 트리 중 이진트리 형태의 구조로 탐색 알고리즘 구현을 위해 많이 사용됨 \n",
                "\n",
                "### 2. 알아둘 용어 \n",
                " - Node: 트리에서 데이터를 저장하는 기본 요서 \n",
                " - Root Node: 최상위 노드 \n",
                " - 레벨 : 최상위 노드를 레벨 0 이라고 했을때 하위 브랜치로 연결된 노드들의 깊이 \n",
                " - 부모 노드 \n",
                " - 자식 노드 \n",
                " - Leaf Node: 자식 노드가 없는 노드 \n",
                " - Sibling : 동일한 부모노드를 가진 자식 노드들 \n",
                " - Depth :  트리에서 노드가 가질수 있는 최대 레벨 \n",
                "\n",
                "### 3. 이진 트리와 이진 탐색 트리 \n",
                " - 이진트리: 노드의 최대 브랜치가 2개인 트리 \n",
                " - 이진 탐색 트리(Binary Search Tree): 이진 트리에 다음과 같은 추가적인 조건이 있는 트리\n",
                "    * 왼쪽 노드는 해당 노드보다 작은 값, 오른쪽 노드는 해당 노드모다 큰값을 가지고 있음\n",
                "\n",
                "### 4. 자료구조 이진 탐색 트리의 장점과 주요 용도\n",
                " - 주요용도: 데이터 탐색 \n",
                " - 장점: 탐색 속도를 개선할 수 있음\n",
                "  \n",
                "### 5. 파이썬 객체 지향 프로그래밍으로 링크드 리스트 구현하기 "
            ],
            "metadata": {}
        },
        {
            "cell_type": "code",
            "execution_count": 1,
            "source": [
                "# 노드 클래스 만들기 \n",
                "class Node: \n",
                "    def __init__(self,value):\n",
                "        self.value = value \n",
                "        self.left = None \n",
                "        self.right = None"
            ],
            "outputs": [],
            "metadata": {}
        },
        {
            "cell_type": "code",
            "execution_count": 11,
            "source": [
                "# 이진 탐색 트리에 데이터 넣기 /탐색 \n",
                "class NodeMgmt:\n",
                "    def __init__(self,head):\n",
                "        self.head = head\n",
                "    def insert(self,value):\n",
                "        self.current_node = self.head\n",
                "        while True:\n",
                "            if value < self.current_node.value:\n",
                "                if self.current_node.left != None:\n",
                "                    self.current_node = self.current_node.left\n",
                "                else:\n",
                "                    self.current_node.left =Node(value)\n",
                "                    break\n",
                "            else: \n",
                "                if self.current_node.right != None:\n",
                "                    self.current_node = self.current_node.right\n",
                "                else:\n",
                "                    self.current_node.right =Node(value)\n",
                "                    break\n",
                "    def search (self, value):\n",
                "        self.current_node = self.head\n",
                "        while self.current_node:\n",
                "            if self.current_node.value == value:\n",
                "                return True\n",
                "            elif value < self.current_node.value:\n",
                "                self.current_node = self.current_node.left\n",
                "            else:\n",
                "                self.current_node = self.current_node.right\n",
                "        return False\n"
            ],
            "outputs": [],
            "metadata": {}
        },
        {
            "cell_type": "code",
            "execution_count": 12,
            "source": [
                "head = Node(1)\n",
                "BST = NodeMgmt(head)\n",
                "BST.insert(2)"
            ],
            "outputs": [],
            "metadata": {}
        },
        {
            "cell_type": "code",
            "execution_count": 13,
            "source": [
                "BST.search(3)"
            ],
            "outputs": [
                {
                    "output_type": "execute_result",
                    "data": {
                        "text/plain": [
                            "False"
                        ]
                    },
                    "metadata": {},
                    "execution_count": 13
                }
            ],
            "metadata": {}
        },
        {
            "cell_type": "code",
            "execution_count": 14,
            "source": [
                "BST.search(2)"
            ],
            "outputs": [
                {
                    "output_type": "execute_result",
                    "data": {
                        "text/plain": [
                            "True"
                        ]
                    },
                    "metadata": {},
                    "execution_count": 14
                }
            ],
            "metadata": {}
        }
    ],
    "metadata": {
        "orig_nbformat": 4,
        "language_info": {
            "name": "python",
            "version": "3.8.2",
            "mimetype": "text/x-python",
            "codemirror_mode": {
                "name": "ipython",
                "version": 3
            },
            "pygments_lexer": "ipython3",
            "nbconvert_exporter": "python",
            "file_extension": ".py"
        },
        "kernelspec": {
            "name": "python3",
            "display_name": "Python 3.8.2 64-bit"
        },
        "interpreter": {
            "hash": "31f2aee4e71d21fbe5cf8b01ff0e069b9275f58929596ceb00d14d90e3e16cd6"
        }
    },
    "nbformat": 4,
    "nbformat_minor": 2
}