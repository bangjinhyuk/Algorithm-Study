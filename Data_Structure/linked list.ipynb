{
    "cells": [
        {
            "cell_type": "markdown",
            "source": [
                "## Linked List\n",
                "\n",
                "### 1. 링크드 리스트 구조 \n",
                " - 연결 리스트 \n",
                " - 배열과 달리 떨어진 곳에 존재하는 데이터를 화살표로 연결해서 관리하는 데이터 구조 \n",
                " - 파이썬 리스트에서 연결 리스트 기능을 지원 \n",
                "\n",
                " - 기본 구조와 용어 \n",
                "    * 노드(Node): 데이터 저장 단위 (데이터 값, 포인터) 로 구성\n",
                "    * 포인터 : 각 노드 안에서 다음이나 이전의 노드와의 연결정보(주소값)를 담고 있음\n",
                "    * [ 12 | * ->]>>>  [ 99 | * ->]>>> [ 37 | * ->]>>>"
            ],
            "metadata": {}
        },
        {
            "cell_type": "markdown",
            "source": [
                "### 2. 간단한 링크드 리스트 예\n",
                " - Node 구현\n",
                "\n"
            ],
            "metadata": {}
        },
        {
            "cell_type": "code",
            "execution_count": 2,
            "source": [
                "class Node:\n",
                "    def __init__(self, data):\n",
                "        self.data = data\n",
                "        self.next = None"
            ],
            "outputs": [],
            "metadata": {}
        },
        {
            "cell_type": "code",
            "execution_count": 4,
            "source": [
                "class Node:\n",
                "    def __init__(self, data, next = None):\n",
                "        self.data = data\n",
                "        self.next = next"
            ],
            "outputs": [],
            "metadata": {}
        },
        {
            "cell_type": "markdown",
            "source": [
                " - Node 와 Node 연결"
            ],
            "metadata": {}
        },
        {
            "cell_type": "code",
            "execution_count": 5,
            "source": [
                "node1 = Node(1)\n",
                "node2 = Node(2)\n",
                "node1.next = node2\n",
                "head = node1"
            ],
            "outputs": [],
            "metadata": {}
        },
        {
            "cell_type": "markdown",
            "source": [
                " - 링크드 리스트로 데이터 추가하기 "
            ],
            "metadata": {}
        },
        {
            "cell_type": "code",
            "execution_count": 23,
            "source": [
                "class Node:\n",
                "    def __init__(self, data, next = None):\n",
                "        self.data = data\n",
                "        self.next = next\n",
                "def add(data):\n",
                "    node = head\n",
                "    while node.next:\n",
                "        node = node.next\n",
                "    node.next = Node(data)"
            ],
            "outputs": [],
            "metadata": {}
        },
        {
            "cell_type": "code",
            "execution_count": 24,
            "source": [
                "node1 = Node(1)\n",
                "head = node1\n",
                "for index in range(2,10):\n",
                "    # print(index)\n",
                "    add(index)"
            ],
            "outputs": [],
            "metadata": {}
        },
        {
            "cell_type": "code",
            "execution_count": 26,
            "source": [
                "node1.next.data"
            ],
            "outputs": [
                {
                    "output_type": "execute_result",
                    "data": {
                        "text/plain": [
                            "2"
                        ]
                    },
                    "metadata": {},
                    "execution_count": 26
                }
            ],
            "metadata": {}
        },
        {
            "cell_type": "code",
            "execution_count": 27,
            "source": [
                "node1.next.next.data"
            ],
            "outputs": [
                {
                    "output_type": "execute_result",
                    "data": {
                        "text/plain": [
                            "3"
                        ]
                    },
                    "metadata": {},
                    "execution_count": 27
                }
            ],
            "metadata": {}
        },
        {
            "cell_type": "markdown",
            "source": [
                "### 3. 링크드 리스트 장단점\n",
                " - 장점 \n",
                "    * 미리 데이터 공간을 미리 할당할 필요가 없다. \n",
                " - 단점 \n",
                "    * 다음 노드에 대한 주소값을 가져야 하므로 저장공간 효율이 높지 않음.\n",
                "    * 연결 정보를 찾는데 속도가 느림\n",
                "    * 중간 데이터 또는 중간에 데이터 추가지 다른 노드들의 연결 정보를 모두 수정해 주어야 함\n",
                "    "
            ],
            "metadata": {}
        },
        {
            "cell_type": "code",
            "execution_count": 28,
            "source": [
                "node3 = Node(1.5)"
            ],
            "outputs": [],
            "metadata": {}
        },
        {
            "cell_type": "code",
            "execution_count": 29,
            "source": [
                "node = head\n",
                "search = True\n",
                "while search:\n",
                "    if node.data == 1:\n",
                "        search = False\n",
                "    node = node.next\n",
                "node_next = node.next\n",
                "node.next = node3\n",
                "node3.next = node_next"
            ],
            "outputs": [],
            "metadata": {}
        },
        {
            "cell_type": "code",
            "execution_count": 30,
            "source": [
                "head.data"
            ],
            "outputs": [
                {
                    "output_type": "execute_result",
                    "data": {
                        "text/plain": [
                            "1"
                        ]
                    },
                    "metadata": {},
                    "execution_count": 30
                }
            ],
            "metadata": {}
        },
        {
            "cell_type": "code",
            "execution_count": 31,
            "source": [
                "head.next.data"
            ],
            "outputs": [
                {
                    "output_type": "execute_result",
                    "data": {
                        "text/plain": [
                            "2"
                        ]
                    },
                    "metadata": {},
                    "execution_count": 31
                }
            ],
            "metadata": {}
        },
        {
            "cell_type": "code",
            "execution_count": 32,
            "source": [
                "head.next.next.data"
            ],
            "outputs": [
                {
                    "output_type": "execute_result",
                    "data": {
                        "text/plain": [
                            "1.5"
                        ]
                    },
                    "metadata": {},
                    "execution_count": 32
                }
            ],
            "metadata": {}
        },
        {
            "cell_type": "code",
            "execution_count": 33,
            "source": [
                "head.next.next.next.data"
            ],
            "outputs": [
                {
                    "output_type": "execute_result",
                    "data": {
                        "text/plain": [
                            "3"
                        ]
                    },
                    "metadata": {},
                    "execution_count": 33
                }
            ],
            "metadata": {}
        },
        {
            "cell_type": "markdown",
            "source": [
                "### 5. 파이썬 객체 지향으로 링크드 리스트 구현"
            ],
            "metadata": {}
        },
        {
            "cell_type": "code",
            "execution_count": 1,
            "source": [
                "class Node:\n",
                "    def __init__(self, data, next = None):\n",
                "        self.data = data\n",
                "        self.next = next\n",
                "class NodeMgmt:\n",
                "    def __init__(self, data):\n",
                "        self.head = Node(data)\n",
                "\n",
                "    def add(self, data):\n",
                "        if self.head == '':\n",
                "            self.head = Node(data)\n",
                "        else: \n",
                "            node = self.head\n",
                "            while node.next:\n",
                "                node = node.next\n",
                "            node.next = Node(data)\n",
                "\n",
                "    def desc(self):\n",
                "        node =  self.head\n",
                "        while node:\n",
                "            print(node.data)\n",
                "            node = node.next\n",
                "    \n",
                "    # 처음 중간 마지막 모두 지워주는 함수 \n",
                "    def delete(self,data):\n",
                "        if self.head == '':\n",
                "            print (\"해당값을 가진 노드가 없습니다.\")\n",
                "            return\n",
                "        \n",
                "        if self.head.data == data:\n",
                "            temp = self.head\n",
                "            self.head = self.head.next\n",
                "            del temp\n",
                "        else:\n",
                "            node= self.head\n",
                "            while node.next:\n",
                "                if node.next.data == data:\n",
                "                    temp = node.next\n",
                "                    node.next = node.next.next\n",
                "                    del temp\n",
                "                    return\n",
                "                else:\n",
                "                    node = node.next\n"
            ],
            "outputs": [],
            "metadata": {}
        },
        {
            "cell_type": "code",
            "execution_count": 2,
            "source": [
                "linked_list = NodeMgmt(0)\n",
                "linked_list.desc()"
            ],
            "outputs": [
                {
                    "output_type": "stream",
                    "name": "stdout",
                    "text": [
                        "0\n"
                    ]
                }
            ],
            "metadata": {}
        },
        {
            "cell_type": "code",
            "execution_count": 3,
            "source": [
                "linked_list.add(5)\n",
                "linked_list.add(15)\n",
                "linked_list.add(25)\n",
                "linked_list.desc()"
            ],
            "outputs": [
                {
                    "output_type": "stream",
                    "name": "stdout",
                    "text": [
                        "0\n",
                        "5\n",
                        "15\n",
                        "25\n"
                    ]
                }
            ],
            "metadata": {}
        },
        {
            "cell_type": "code",
            "execution_count": 4,
            "source": [
                "linked_list.delete(5)\n",
                "linked_list.desc()"
            ],
            "outputs": [
                {
                    "output_type": "stream",
                    "name": "stdout",
                    "text": [
                        "0\n",
                        "15\n",
                        "25\n"
                    ]
                }
            ],
            "metadata": {}
        },
        {
            "cell_type": "markdown",
            "source": [
                "### 6. 다양한 링크드 리스트 구조\n",
                " - 더블 링크드 리스트\n",
                "    * 이중 연결 리스트 \n",
                "    * 노드 탐색이 양쪽부터 가능 함(노드에 앞 노드 주소, 데이터값, 뒷노드 주소를 가지고 있음)"
            ],
            "metadata": {}
        },
        {
            "cell_type": "code",
            "execution_count": 10,
            "source": [
                "class Node:\n",
                "    def __init__(self, data, prev = None ,next = None):\n",
                "        self.data = data\n",
                "        self.prev = prev\n",
                "        self.next = next\n",
                "class NodeMgmt:\n",
                "    def __init__(self,data):\n",
                "        self.head = Node(data)\n",
                "        self.tail = self.head\n",
                "    \n",
                "    def insert(self,data):\n",
                "        if self.head == None:\n",
                "            self.head = Node(data)\n",
                "            self.tail = self.head\n",
                "        else:\n",
                "            node = self.head\n",
                "            while node.next:\n",
                "                node = node.next\n",
                "            new = Node(data)\n",
                "            node.next = new \n",
                "            new.prev = node\n",
                "            self.tail = new\n",
                "\n",
                "    def desc(self):\n",
                "        node =  self.head\n",
                "        while node:\n",
                "            print(node.data)\n",
                "            node = node.next\n",
                "\n",
                "    def search_from_head(self,data):\n",
                "        if self.head == None:\n",
                "            return False\n",
                "        node = self.head\n",
                "        while node:\n",
                "            if node.data == data:\n",
                "                return node\n",
                "            else:\n",
                "                node = node.next\n",
                "        return False\n",
                "\n",
                "    def search_from_tail(self,data):\n",
                "        if self.head == None:\n",
                "            return False\n",
                "        node = self.tail\n",
                "        while node:\n",
                "            if node.data == data:\n",
                "                return node\n",
                "            else:\n",
                "                node = node.prev\n",
                "        return False\n",
                "    \n",
                "    def insert_before(self, data, before_data):\n",
                "        if self.head == None:\n",
                "            self.head = Node(data)\n",
                "            return True\n",
                "        else:\n",
                "            node = self.tail\n",
                "            while node.data != before_data:\n",
                "                node = node.prev\n",
                "                if node == None:\n",
                "                    return False\n",
                "            new = Node(data)\n",
                "            before_new = node.prev \n",
                "            before_new.next = new\n",
                "            new.prev = before_new\n",
                "            new.next = node\n",
                "            node.prev = new\n",
                "            return True\n",
                "\n",
                "                "
            ],
            "outputs": [],
            "metadata": {}
        },
        {
            "cell_type": "code",
            "execution_count": 11,
            "source": [
                "double_linked_list = NodeMgmt(0)\n",
                "for data in range(1,10):\n",
                "    double_linked_list.insert(data)\n",
                "double_linked_list.desc()"
            ],
            "outputs": [
                {
                    "output_type": "stream",
                    "name": "stdout",
                    "text": [
                        "0\n",
                        "1\n",
                        "2\n",
                        "3\n",
                        "4\n",
                        "5\n",
                        "6\n",
                        "7\n",
                        "8\n",
                        "9\n"
                    ]
                }
            ],
            "metadata": {}
        },
        {
            "cell_type": "code",
            "execution_count": 12,
            "source": [],
            "outputs": [
                {
                    "output_type": "execute_result",
                    "data": {
                        "text/plain": [
                            "<__main__.Node at 0x7f95a82160b8>"
                        ]
                    },
                    "metadata": {},
                    "execution_count": 12
                }
            ],
            "metadata": {}
        }
    ],
    "metadata": {
        "orig_nbformat": 4,
        "language_info": {
            "name": "python",
            "version": "3.6.8",
            "mimetype": "text/x-python",
            "codemirror_mode": {
                "name": "ipython",
                "version": 3
            },
            "pygments_lexer": "ipython3",
            "nbconvert_exporter": "python",
            "file_extension": ".py"
        },
        "kernelspec": {
            "name": "python3",
            "display_name": "Python 3.6.8 64-bit"
        },
        "interpreter": {
            "hash": "4cd7ab41f5fca4b9b44701077e38c5ffd31fe66a6cab21e0214b68d958d0e462"
        }
    },
    "nbformat": 4,
    "nbformat_minor": 2
}