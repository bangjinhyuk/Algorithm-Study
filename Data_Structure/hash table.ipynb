{
    "cells": [
        {
            "cell_type": "markdown",
            "source": [
                "## Hash Table\n",
                "\n",
                "### 1. 해쉬 구조 \n",
                " - 키에 데이터를 저장하는 데이터 구조 (Key-Value)\n",
                "    * Key를 통해 데이터를 가져오기 때문에 속도가 빠름 \n",
                "    * 파이썬의 딕셔너리 타입이 해쉬테이블이다. \n",
                "    * 보통 배열로 미리 Hash Tabel 사이즈 만큼 생성후의 사용\n",
                "\n",
                "### 2. 알아둘 용어 \n",
                " - 해쉬(Hash) : 임의 값을 고정 길이로 변환 하는것 \n",
                " - 해쉬 테이블 : 키값에 연산에 의햐 직접 접근이 가능한 데이터 구조 \n",
                " - 해싱 함수: Key에 대해 산술 연산을 히용해 데이터 위치를 찾을수 있는 함수 \n",
                " - 해쉬 값 또는 해쉬 주소 : 키를 해싱 함수로 연산해서 해쉬 값을 알아내고 이를 기반으로 해쉬 테이블에서 해당 Key에 대한 데이터 위치를 일관성 있게 찾을수 있음 \n",
                " - 슬롯: 한개의 데이터를 저장할수 있는 공간 \n",
                " - 저장한 데이터에 대해 Key를 추출할수 있는 별도 함수도 존재할수 있음\n"
            ],
            "metadata": {}
        },
        {
            "cell_type": "markdown",
            "source": [
                "### 2. 간단한 해시 예 "
            ],
            "metadata": {}
        },
        {
            "cell_type": "code",
            "execution_count": 14,
            "source": [
                "# hash 테이블 만들기 \n",
                "hash_table = list([0 for i in range(10)])\n",
                "hash_table"
            ],
            "outputs": [
                {
                    "output_type": "execute_result",
                    "data": {
                        "text/plain": [
                            "[0, 0, 0, 0, 0, 0, 0, 0, 0, 0]"
                        ]
                    },
                    "metadata": {},
                    "execution_count": 14
                }
            ],
            "metadata": {}
        },
        {
            "cell_type": "code",
            "execution_count": 15,
            "source": [
                "# 해쉬 함수 만들기 \n",
                "def hash_func(key):\n",
                "    return key % 5"
            ],
            "outputs": [],
            "metadata": {}
        },
        {
            "cell_type": "code",
            "execution_count": 16,
            "source": [
                "# 해쉬 테이블에 데이터 저장\n",
                "data1 = \"HI\"\n",
                "data2 = \"hello\"\n",
                "data3 = \"Bye\"\n",
                "\n",
                "#ord 문자의 아스키 코드 리턴\n",
                "print(ord(data1[0]),ord(data2[0]),ord(data3[0]))"
            ],
            "outputs": [
                {
                    "output_type": "stream",
                    "name": "stdout",
                    "text": [
                        "72 104 66\n"
                    ]
                }
            ],
            "metadata": {}
        },
        {
            "cell_type": "code",
            "execution_count": 17,
            "source": [
                "# 해쉬 테이블 저장 예 \n",
                "def storage_data(data,value):\n",
                "    key = ord(data[0])\n",
                "    hash_address = hash_func(key)\n",
                "    hash_table[hash_address] = value\n"
            ],
            "outputs": [],
            "metadata": {}
        },
        {
            "cell_type": "code",
            "execution_count": 18,
            "source": [
                "storage_data('Andy',\"0101323323\")\n",
                "storage_data('Leo',\"010569323043\")\n",
                "storage_data('mark',\"0323493849\")\n"
            ],
            "outputs": [],
            "metadata": {}
        },
        {
            "cell_type": "code",
            "execution_count": 19,
            "source": [
                "def get_data(data):\n",
                "    key = ord(data[0])\n",
                "    hash_address = hash_func(key)\n",
                "    return hash_table[hash_address]"
            ],
            "outputs": [],
            "metadata": {}
        },
        {
            "cell_type": "code",
            "execution_count": 20,
            "source": [
                "print(get_data('Andy'))\n",
                "print(get_data('Leo'))\n",
                "print(get_data('mark'))"
            ],
            "outputs": [
                {
                    "output_type": "stream",
                    "name": "stdout",
                    "text": [
                        "0101323323\n",
                        "010569323043\n",
                        "0323493849\n"
                    ]
                }
            ],
            "metadata": {}
        },
        {
            "cell_type": "markdown",
            "source": [
                "### 4. 해쉬 테이블의 장단점과 주요 용도 \n",
                " - 장점\n",
                "    * 데이터의 저장/읽기 속도가 빠르다.\n",
                "    * 해쉬틑 키에 대한 데이터가 있는지 확인이 쉬움 \n",
                " - 단점 \n",
                "    * 저장공간이 더 필요하다. \n",
                "    * 여러키에 해당하는 주소가 동일할 경우 충돌을 해결하기 위한 별도의 자료구조 필요 \n",
                " - 주요 용도 \n",
                "    * 검색이 많이 필요한 경우 \n",
                "    * 저장, 삭제, 읽기가 빈번한 경우 \n",
                "    * 캐쉬 구현시 (중복 확인이 쉽기 때문)\n",
                "\n",
                "### 5. 프로그래밍 연습 \n",
                " "
            ],
            "metadata": {}
        },
        {
            "cell_type": "code",
            "execution_count": 22,
            "source": [
                "# 연습 1 : 리스트 변수를 활용하여 해쉬 테이블 구현해보기 \n",
                "# 1. 해쉬 함수 : Key %8\n",
                "# 2. 해쉬 키 생성 : hash(data)\n",
                "\n",
                "hash_table = list([0 for i in range(8)])\n",
                "\n",
                "def get_key(data):\n",
                "    return hash(data)\n",
                "\n",
                "def hash_function(key):\n",
                "    return key % 8 \n",
                "\n",
                "def save(data, value):\n",
                "    hash_address = hash_function(get_key(data))\n",
                "    hash_table[hash_address] = value\n",
                "\n",
                "def read(data):\n",
                "    hash_address = hash_function(get_key(data))\n",
                "    return hash_table[hash_address]\n"
            ],
            "outputs": [],
            "metadata": {}
        },
        {
            "cell_type": "code",
            "execution_count": 24,
            "source": [
                "save('Leo', '01010101001')\n",
                "save('andy', 'asdsadsdsd')\n",
                "read('Leo')"
            ],
            "outputs": [
                {
                    "output_type": "execute_result",
                    "data": {
                        "text/plain": [
                            "'01010101001'"
                        ]
                    },
                    "metadata": {},
                    "execution_count": 24
                }
            ],
            "metadata": {}
        },
        {
            "cell_type": "markdown",
            "source": [],
            "metadata": {}
        },
        {
            "cell_type": "code",
            "execution_count": 25,
            "source": [
                "hash_table"
            ],
            "outputs": [
                {
                    "output_type": "execute_result",
                    "data": {
                        "text/plain": [
                            "['asdsadsdsd', 0, '01010101001', 0, 0, 0, 0, 0]"
                        ]
                    },
                    "metadata": {},
                    "execution_count": 25
                }
            ],
            "metadata": {}
        }
    ],
    "metadata": {
        "orig_nbformat": 4,
        "language_info": {
            "name": "python",
            "version": "3.6.8",
            "mimetype": "text/x-python",
            "codemirror_mode": {
                "name": "ipython",
                "version": 3
            },
            "pygments_lexer": "ipython3",
            "nbconvert_exporter": "python",
            "file_extension": ".py"
        },
        "kernelspec": {
            "name": "python3",
            "display_name": "Python 3.6.8 64-bit"
        },
        "interpreter": {
            "hash": "4cd7ab41f5fca4b9b44701077e38c5ffd31fe66a6cab21e0214b68d958d0e462"
        }
    },
    "nbformat": 4,
    "nbformat_minor": 2
}