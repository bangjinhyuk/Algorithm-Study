{
    "cells": [
        {
            "cell_type": "markdown",
            "source": [
                "## TREE\n",
                "\n",
                "### 1. 트리 구조\n",
                " - 트리 : 노드와 브랜치를 이용해서 사이클이 일어나지 않도록 구성한 데이터 구조 \n",
                " - 실제로 사용되는 곳 \n",
                "    * 트리 중 이진트리 형태의 구조로 탐색 알고리즘 구현을 위해 많이 사용됨 \n",
                "\n",
                "### 2. 알아둘 용어 \n",
                " - Node: 트리에서 데이터를 저장하는 기본 요서 \n",
                " - Root Node: 최상위 노드 \n",
                " - 레벨 : 최상위 노드를 레벨 0 이라고 했을때 하위 브랜치로 연결된 노드들의 깊이 \n",
                " - 부모 노드 \n",
                " - 자식 노드 \n",
                " - Leaf Node: 자식 노드가 없는 노드 \n",
                " - Sibling : 동일한 부모노드를 가진 자식 노드들 \n",
                " - Depth :  트리에서 노드가 가질수 있는 최대 레벨 \n",
                "\n",
                "### 3. 이진 트리와 이진 탐색 트리 \n",
                " - 이진트리: 노드의 최대 브랜치가 2개인 트리 \n",
                " - 이진 탐색 트리(Binary Search Tree): 이진 트리에 다음과 같은 추가적인 조건이 있는 트리\n",
                "    * 왼쪽 노드는 해당 노드보다 작은 값, 오른쪽 노드는 해당 노드모다 큰값을 가지고 있음\n",
                "\n",
                "### 4. 자료구조 이진 탐색 트리의 장점과 주요 용도\n",
                " - 주요용도: 데이터 탐색 \n",
                " - 장점: 탐색 속도를 개선할 수 있음\n",
                "  "
            ],
            "metadata": {}
        }
    ],
    "metadata": {
        "orig_nbformat": 4,
        "language_info": {
            "name": "python",
            "version": "3.6.8",
            "mimetype": "text/x-python",
            "codemirror_mode": {
                "name": "ipython",
                "version": 3
            },
            "pygments_lexer": "ipython3",
            "nbconvert_exporter": "python",
            "file_extension": ".py"
        },
        "kernelspec": {
            "name": "python3",
            "display_name": "Python 3.6.8 64-bit"
        },
        "interpreter": {
            "hash": "4cd7ab41f5fca4b9b44701077e38c5ffd31fe66a6cab21e0214b68d958d0e462"
        }
    },
    "nbformat": 4,
    "nbformat_minor": 2
}