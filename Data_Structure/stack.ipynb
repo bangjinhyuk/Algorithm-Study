{
    "cells": [
        {
            "cell_type": "markdown",
            "source": [
                "## Stack\n",
                " * 데이터를 한쪽 끝에서만 자료를 넣거나 뺄수 있는 구조 \n",
                " * 스택은 LIFO 정책 사용 "
            ],
            "metadata": {}
        },
        {
            "cell_type": "markdown",
            "source": [
                "### 1. 스택의 구조 \n",
                " - LIFO, FILO 정책 사용\n",
                " - 컴퓨터 내부의 프로세스 구조의 함수 동작 방식\n",
                " - 주요기능 \n",
                "    * push(): 데이터를 스택에 넣기 \n",
                "    * pop(): 데이터를 스택에서 빼기"
            ],
            "metadata": {}
        },
        {
            "cell_type": "markdown",
            "source": [
                "### 2. 스택의 구조와 프로세스의 스택 \n",
                " - 프로세스 실행 구조는 스택 구조가 기본 "
            ],
            "metadata": {}
        },
        {
            "cell_type": "code",
            "execution_count": 9,
            "source": [
                "def reculsive(data):\n",
                "    if data < 0:\n",
                "        print(\"ended\")\n",
                "    else:\n",
                "        print(data)\n",
                "        reculsive(data - 1)\n",
                "        print(\"returned\", data)"
            ],
            "outputs": [],
            "metadata": {}
        },
        {
            "cell_type": "code",
            "execution_count": 10,
            "source": [
                "reculsive(4)"
            ],
            "outputs": [
                {
                    "output_type": "stream",
                    "name": "stdout",
                    "text": [
                        "4\n",
                        "3\n",
                        "2\n",
                        "1\n",
                        "0\n",
                        "ended\n",
                        "returned 0\n",
                        "returned 1\n",
                        "returned 2\n",
                        "returned 3\n",
                        "returned 4\n"
                    ]
                }
            ],
            "metadata": {}
        },
        {
            "cell_type": "markdown",
            "source": [
                "### 3. 스택의 장단점 \n",
                " - 장점\n",
                "    * 구조가 단순 구현이 쉽다. \n",
                "    * 데이터 저장/ 읽기 속도가 빠르다.\n",
                " - 단점 \n",
                "    * 데이터 최대개수를 지정 해줘야 한다. \n",
                "    * 미리 지정해줘야 하는 만큼 자원 낭비 발생"
            ],
            "metadata": {}
        },
        {
            "cell_type": "markdown",
            "source": [
                "### 4 . 파이썬 리스트 기능에서 제공하는 메서드로 스택 사용해보기"
            ],
            "metadata": {}
        },
        {
            "cell_type": "code",
            "execution_count": 11,
            "source": [
                "data_stack = list()\n",
                "\n",
                "data_stack.append(1)\n",
                "data_stack.append(2)\n"
            ],
            "outputs": [],
            "metadata": {}
        },
        {
            "cell_type": "code",
            "execution_count": 12,
            "source": [
                "data_stack"
            ],
            "outputs": [
                {
                    "output_type": "execute_result",
                    "data": {
                        "text/plain": [
                            "[1, 2]"
                        ]
                    },
                    "metadata": {},
                    "execution_count": 12
                }
            ],
            "metadata": {}
        },
        {
            "cell_type": "code",
            "execution_count": 13,
            "source": [
                "data_stack.pop()"
            ],
            "outputs": [
                {
                    "output_type": "execute_result",
                    "data": {
                        "text/plain": [
                            "2"
                        ]
                    },
                    "metadata": {},
                    "execution_count": 13
                }
            ],
            "metadata": {}
        },
        {
            "cell_type": "markdown",
            "source": [
                "## 5. 프로그래밍 연습\n",
                " - 리스트 변수로 스택을 다루는 pop, push 기능 구현 해보기"
            ],
            "metadata": {}
        },
        {
            "cell_type": "code",
            "execution_count": 14,
            "source": [
                "stack_list = list()\n",
                "\n",
                "def push(data):\n",
                "    stack_list.append(data)\n",
                "    \n",
                "def pop():\n",
                "    data = stack_list[-1]\n",
                "    del stack_list[-1]\n",
                "    return data"
            ],
            "outputs": [],
            "metadata": {}
        },
        {
            "cell_type": "code",
            "execution_count": 15,
            "source": [
                "for idx in range(10):\n",
                "    push(idx)"
            ],
            "outputs": [],
            "metadata": {}
        },
        {
            "cell_type": "code",
            "execution_count": 16,
            "source": [
                "pop()"
            ],
            "outputs": [
                {
                    "output_type": "execute_result",
                    "data": {
                        "text/plain": [
                            "9"
                        ]
                    },
                    "metadata": {},
                    "execution_count": 16
                }
            ],
            "metadata": {}
        },
        {
            "cell_type": "markdown",
            "source": [],
            "metadata": {}
        }
    ],
    "metadata": {
        "orig_nbformat": 4,
        "language_info": {
            "name": "python",
            "version": "3.9.2",
            "mimetype": "text/x-python",
            "codemirror_mode": {
                "name": "ipython",
                "version": 3
            },
            "pygments_lexer": "ipython3",
            "nbconvert_exporter": "python",
            "file_extension": ".py"
        },
        "kernelspec": {
            "name": "python3",
            "display_name": "Python 3.9.2 64-bit ('base': conda)"
        },
        "interpreter": {
            "hash": "8aeacb0e2825dcc0b640b902a90a3464139766d6c5231e10b7785ca43ef98d71"
        }
    },
    "nbformat": 4,
    "nbformat_minor": 2
}